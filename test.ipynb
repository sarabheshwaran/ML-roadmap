{
 "cells": [
  {
   "cell_type": "code",
   "execution_count": null,
   "id": "f9c9059c",
   "metadata": {},
   "outputs": [],
   "source": [
    "import numpy as np\n",
    "x = np.linspace(0, 5, 100)\n",
    "y = np.linspace(0, 5, 100)[:, np.newaxis]\n",
    "z = x+y\n",
    "\n",
    "import matplotlib.pyplot as plt\n",
    "\n",
    "plt.imshow(z, origin='lower', extent=[0, 5, 0, 5],cmap='viridis')\n",
    "plt.colorbar();\n"
   ]
  },
  {
   "cell_type": "code",
   "execution_count": null,
   "id": "04aaa088",
   "metadata": {},
   "outputs": [],
   "source": [
    "import numpy as np\n",
    "np.random.seed(1)\n",
    "x = np.random.rand(4)\n",
    "x.sum()"
   ]
  },
  {
   "cell_type": "code",
   "execution_count": null,
   "id": "b0383099",
   "metadata": {},
   "outputs": [],
   "source": [
    "z = np.linspace(-10,10,5)\n",
    "x"
   ]
  },
  {
   "cell_type": "code",
   "execution_count": null,
   "id": "08d5b34b",
   "metadata": {},
   "outputs": [],
   "source": [
    "x = np.random.randint(10,size = 5)\n",
    "x"
   ]
  },
  {
   "cell_type": "code",
   "execution_count": null,
   "id": "25b259b8",
   "metadata": {},
   "outputs": [],
   "source": [
    "np.sum(x)/5"
   ]
  },
  {
   "cell_type": "code",
   "execution_count": null,
   "id": "0c08c248",
   "metadata": {},
   "outputs": [],
   "source": [
    "y = np.where(x>2, 2,0)\n",
    "y"
   ]
  },
  {
   "cell_type": "code",
   "execution_count": null,
   "id": "3098dfbe",
   "metadata": {},
   "outputs": [],
   "source": [
    "np.random.randint(1,10, size = (3,3))"
   ]
  },
  {
   "cell_type": "code",
   "execution_count": null,
   "id": "abe81c21",
   "metadata": {},
   "outputs": [],
   "source": [
    "mean = [0, 0]\n",
    "cov = [[1, 2],\n",
    "       [2, 5]]\n",
    "X = np.random.multivariate_normal(mean, cov, 100)\n",
    "X\n",
    "indices = np.random.choice(X.shape[0], 20, replace=False)"
   ]
  },
  {
   "cell_type": "code",
   "execution_count": null,
   "id": "f0766e38",
   "metadata": {},
   "outputs": [],
   "source": [
    "%matplotlib inline\n",
    "import matplotlib.pyplot as plt\n",
    "import seaborn; seaborn.set() # for plot styling\n",
    "\n",
    "heights =  [189,170 ,189 ,163, 183, 171, 185, 168, 173 ,183, 173, 173, 175, 178, 183, 193 ,178, 173,\n",
    "     174, 183, 183, 168, 170, 178, 182, 180, 183, 178, 182, 188 ,175, 179, 183, 193, 182, 183,\n",
    "     177, 185, 188, 188, 182, 185]\n",
    "\n",
    "plt.hist(heights)"
   ]
  },
  {
   "cell_type": "code",
   "execution_count": null,
   "id": "5763362a",
   "metadata": {},
   "outputs": [],
   "source": [
    "selection"
   ]
  },
  {
   "cell_type": "code",
   "execution_count": null,
   "id": "cb435096",
   "metadata": {},
   "outputs": [],
   "source": [
    "%matplotlib inline\n",
    "import numpy as np\n",
    "import matplotlib.pyplot as plt\n",
    "import seaborn; seaborn.set() # for plot styling\n",
    "np.random.seed(40)\n",
    "x = np.random.randint(100,size=100)\n",
    "bins = np.linspace(0, 100, 20)\n",
    "counts = np.zeros_like(bins)\n",
    "i = np.searchsorted(bins, x)\n",
    "np.add.at(counts,i,10)\n",
    "plt.plot(bins , counts,linestyle='-',drawstyle='steps');"
   ]
  },
  {
   "cell_type": "code",
   "execution_count": null,
   "id": "7f6902ba",
   "metadata": {},
   "outputs": [],
   "source": [
    "M = np.ones((3, 2))\n",
    "a = np.ones((3,2))\n",
    "M + a"
   ]
  },
  {
   "cell_type": "code",
   "execution_count": null,
   "id": "df4afb0f",
   "metadata": {},
   "outputs": [],
   "source": [
    "a = list(map(int,input().split()))\n",
    "\n",
    "f = lambda a : a**a\n",
    "\n",
    "for i in a:\n",
    "    print(f(i), end=\" \")"
   ]
  },
  {
   "cell_type": "code",
   "execution_count": null,
   "id": "c4a3dffb",
   "metadata": {},
   "outputs": [],
   "source": [
    "import numpy as np\n",
    "x = np.random.randint(100,size = 10)\n",
    "a = np.array([1,2,3])\n",
    "print(x)\n",
    "\n",
    "x[a]"
   ]
  },
  {
   "cell_type": "code",
   "execution_count": null,
   "id": "90c01a19",
   "metadata": {},
   "outputs": [],
   "source": [
    "mean = [0, 0]\n",
    "cov = [[1, 2],\n",
    "        [2, 5]]\n",
    "X = np.random.multivariate_normal(mean, cov, 100)\n",
    "X[1:5,1]"
   ]
  },
  {
   "cell_type": "code",
   "execution_count": null,
   "id": "ba35c629",
   "metadata": {},
   "outputs": [],
   "source": [
    "\n",
    "X = rand.randint(0, 10, (4, 6)) \n",
    "print(X)\n",
    "\n",
    "X.sort(axis=1)\n",
    "X.sort(axis=0)\n",
    "X"
   ]
  },
  {
   "cell_type": "code",
   "execution_count": null,
   "id": "b65d75ee",
   "metadata": {},
   "outputs": [],
   "source": [
    "x = int(input(\"enter the number\"))\n",
    "a = []"
   ]
  },
  {
   "cell_type": "code",
   "execution_count": null,
   "id": "5d60e1d9",
   "metadata": {},
   "outputs": [],
   "source": [
    "for i in range(x):\n",
    "    a.append(int(input()))"
   ]
  },
  {
   "cell_type": "code",
   "execution_count": null,
   "id": "9bb3571d",
   "metadata": {},
   "outputs": [],
   "source": [
    "print(a)\n",
    "if(x==5):\n",
    "    print(\"x is 5\")"
   ]
  },
  {
   "cell_type": "code",
   "execution_count": null,
   "id": "cdf2d986",
   "metadata": {},
   "outputs": [],
   "source": [
    "s = input()\n",
    "print(s.split())"
   ]
  },
  {
   "cell_type": "code",
   "execution_count": null,
   "id": "9a40238b",
   "metadata": {},
   "outputs": [],
   "source": [
    "# importing Numpy package\n",
    "import numpy as np\n",
    "\n",
    "# Creating a numpy array using np.array()\n",
    "ary = np.array([13, 99, 100, 34, 65, 11,\n",
    "\t\t\t\t66, 81, 632, 44])\n",
    "\n",
    "print(\"Original array: \")\n",
    "\n",
    "# printing the Numpy array\n",
    "print(ary)\n",
    "\n",
    "# Creating an empty Numpy array similar\n",
    "# to ary\n",
    "\n",
    "\n",
    "# Now assign ary to copy\n",
    "copy = ary\n",
    "ary = np.array([13, 99, 34, 65, 11,\n",
    "\t\t\t\t66, 81, 632, 44])\n",
    "\n",
    "print(\"\\nCopy of the given array: \")\n",
    "\n",
    "# printing the copied array\n",
    "print(copy)\n"
   ]
  },
  {
   "cell_type": "code",
   "execution_count": null,
   "id": "37e31597",
   "metadata": {},
   "outputs": [],
   "source": [
    "# importing pandas as pd\n",
    "import pandas as pd\n",
    " \n",
    "# Creating the dataframe\n",
    "df = pd.DataFrame({'Date':['11/8/2011', '04/23/2008', '10/2/2019'],\n",
    "                'Event':['Music', 'Poetry', 'Theatre'],\n",
    "                'Cost':[10000, 5000, 15000]})\n",
    " \n",
    "# Print the dataframe\n",
    "print(df)\n",
    " \n",
    "# Now we will check the data type\n",
    "# of the 'Date' column\n",
    "df.iloc[1:3]\n",
    "data = np.round(np.random.randn(4, 6), 1)\n",
    "\n",
    "\n",
    "a = data\n"
   ]
  },
  {
   "cell_type": "code",
   "execution_count": null,
   "id": "b24107fe",
   "metadata": {},
   "outputs": [],
   "source": [
    "import pandas as pd\n",
    "import numpy as np\n",
    "\n",
    "index = pd.MultiIndex.from_product([[2013, 2014], [1, 2]],\n",
    "                                       names=['year', 'visit'])\n",
    "columns = pd.MultiIndex.from_product([['Bob', 'Guido', 'Sue'], ['HR', 'Temp']],names=['subject', 'type'])\n",
    "\n",
    "a = np.random.randint(1,10, size = (4,6))\n",
    "\n",
    "health_data = pd.DataFrame(a, index=index, columns=columns)\n",
    "health_data"
   ]
  },
  {
   "cell_type": "code",
   "execution_count": null,
   "id": "a780d823",
   "metadata": {},
   "outputs": [],
   "source": [
    "health_data.mean(axis=1)"
   ]
  },
  {
   "cell_type": "code",
   "execution_count": null,
   "id": "e9fc80df",
   "metadata": {},
   "outputs": [],
   "source": [
    "data_mean = health_data.groupby(level='visit').mean()\n",
    "data_mean"
   ]
  },
  {
   "cell_type": "code",
   "execution_count": null,
   "id": "7c0639c1",
   "metadata": {},
   "outputs": [],
   "source": [
    "import pandas as pd\n",
    "\n",
    "\n",
    "def make_df(cols, ind):\n",
    "    return ({c: [str(c) + str(i) for i in ind] for c in cols})\n",
    "    \n",
    "df1 = pd.DataFrame(make_df('AB', [1, 2]))\n",
    "df2 = pd.DataFrame(make_df('AC', [2,3]))\n",
    "\n",
    "pd.concat([df1,df2])"
   ]
  },
  {
   "cell_type": "code",
   "execution_count": null,
   "id": "df1f5d13",
   "metadata": {},
   "outputs": [],
   "source": [
    "\n",
    "\n",
    "a = [\"one\",\"two\",\"three\",\"four\",\"five\"]\n",
    "b = [\"1\",\"2\",\"3\",\"4\",\"5\"]\n",
    "\n",
    "for i in (list(input().split())):\n",
    "    if(i in b):\n",
    "        print(a[int(i)-1],end=\" \")\n",
    "    else:\n",
    "        print(i,end=\" \")\n",
    "        \n"
   ]
  },
  {
   "cell_type": "code",
   "execution_count": null,
   "id": "5808e443",
   "metadata": {},
   "outputs": [],
   "source": [
    "xi = [i for i in range(10)]\n",
    "x"
   ]
  },
  {
   "cell_type": "code",
   "execution_count": null,
   "id": "e578498c",
   "metadata": {},
   "outputs": [],
   "source": [
    "df1 = pd.DataFrame({'employee': ['Bob', 'Jake', 'Lisa', 'Sue'],\n",
    "                    'group': ['Accounting', 'Engineering', 'Engineering', 'HR'],\n",
    "                   'hire_date': [2004, 2008, 2012, 2014]})\n",
    "df2 = pd.DataFrame({'employee': ['hello', 'Bob', 'Jake', 'Sue'],\n",
    "                    'hire_date': [2004, 2008, 2012, 2014]})"
   ]
  },
  {
   "cell_type": "code",
   "execution_count": null,
   "id": "464a4f8d",
   "metadata": {},
   "outputs": [],
   "source": [
    "print(df1,\"\\n\",df2)\n",
    "pd.merge(df1,df2,on=\"employee\",suffixes=[\"_a\",\"_b\"])\n"
   ]
  },
  {
   "cell_type": "code",
   "execution_count": null,
   "id": "1e2edebc",
   "metadata": {},
   "outputs": [],
   "source": [
    "pop = pd.read_csv('state-population.csv')\n",
    "areas = pd.read_csv('state-areas.csv')\n",
    "abbrevs = pd.read_csv('state-abbrevs.csv')\n",
    "print(pop.head()); print(areas.head()); print(abbrevs.head())"
   ]
  },
  {
   "cell_type": "code",
   "execution_count": null,
   "id": "b0910482",
   "metadata": {},
   "outputs": [],
   "source": [
    "merged = pd.merge(pop, abbrevs,how='outer',\n",
    "                left_on='state/region', right_on='abbreviation')\n",
    "merged = merged.drop('abbreviation', 1) # drop duplicate info\n",
    "\n",
    "col = ['state','state/region','ages','year','population']\n",
    "\n",
    "merged = merged.reindex(columns = col)\n",
    "\n",
    "merged[merged['ages']=='total']"
   ]
  },
  {
   "cell_type": "code",
   "execution_count": null,
   "id": "ac648569",
   "metadata": {},
   "outputs": [],
   "source": [
    "merged.loc[merged['state/region']=='PR','state']='Puerto Rico'\n",
    "merged.loc[merged['state/region']=='USA','state']='United States'\n",
    "merged.isnull().any()"
   ]
  },
  {
   "cell_type": "code",
   "execution_count": null,
   "id": "bc68f1ce",
   "metadata": {},
   "outputs": [],
   "source": [
    "final = pd.merge(merged,areas,on='state',how='outer')\n",
    "final"
   ]
  },
  {
   "cell_type": "code",
   "execution_count": null,
   "id": "bc542ddf",
   "metadata": {},
   "outputs": [],
   "source": [
    "final.loc[final['area (sq. mi)'].isnull(),'state'].unique()"
   ]
  },
  {
   "cell_type": "code",
   "execution_count": null,
   "id": "e980abf2",
   "metadata": {},
   "outputs": [],
   "source": [
    "arr = [1,2,3,4,5]\n",
    "\n",
    "for i in arr:\n",
    "    print(i**2)\n",
    "    \n"
   ]
  },
  {
   "cell_type": "code",
   "execution_count": 1,
   "id": "550da0dc",
   "metadata": {},
   "outputs": [
    {
     "ename": "SyntaxError",
     "evalue": "EOL while scanning string literal (3487346104.py, line 4)",
     "output_type": "error",
     "traceback": [
      "\u001b[0;36m  File \u001b[0;32m\"/var/folders/13/hcygwrbj4gqb7zdx2sxzyz5m0000gn/T/ipykernel_18818/3487346104.py\"\u001b[0;36m, line \u001b[0;32m4\u001b[0m\n\u001b[0;31m    b.crosstab(index='arrival_date_month)\u001b[0m\n\u001b[0m                                         ^\u001b[0m\n\u001b[0;31mSyntaxError\u001b[0m\u001b[0;31m:\u001b[0m EOL while scanning string literal\n"
     ]
    }
   ],
   "source": [
    "a = pd.read_csv(\"hotel_bookings.csv\")\n",
    "b = a.query(\"is_canceled == 0 & arrival_date_year == 2017\")\n",
    "\n",
    "b.crosstab(index='arrival_date_month)"
   ]
  },
  {
   "cell_type": "code",
   "execution_count": null,
   "id": "b0329817",
   "metadata": {},
   "outputs": [],
   "source": [
    "import seaborn as sns\n",
    "import pandas as pd\n",
    "planets = sns.load_dataset('planets') \n",
    "planets.groupby('mass').head()"
   ]
  },
  {
   "cell_type": "code",
   "execution_count": null,
   "id": "bddf043e",
   "metadata": {},
   "outputs": [],
   "source": [
    "import pandas as pd\n",
    "poke = pd.read_csv(\"pokemon.csv\")"
   ]
  },
  {
   "cell_type": "code",
   "execution_count": null,
   "id": "0c642c89",
   "metadata": {},
   "outputs": [],
   "source": []
  }
 ],
 "metadata": {
  "kernelspec": {
   "display_name": "Python 3 (ipykernel)",
   "language": "python",
   "name": "python3"
  },
  "language_info": {
   "codemirror_mode": {
    "name": "ipython",
    "version": 3
   },
   "file_extension": ".py",
   "mimetype": "text/x-python",
   "name": "python",
   "nbconvert_exporter": "python",
   "pygments_lexer": "ipython3",
   "version": "3.9.7"
  }
 },
 "nbformat": 4,
 "nbformat_minor": 5
}
